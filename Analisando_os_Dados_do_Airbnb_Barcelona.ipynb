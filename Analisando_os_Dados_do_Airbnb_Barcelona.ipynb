{
  "nbformat": 4,
  "nbformat_minor": 0,
  "metadata": {
    "colab": {
      "name": "Analisando_os_Dados_do_Airbnb_Barcelona.ipynb",
      "provenance": [],
      "collapsed_sections": [],
      "include_colab_link": true
    },
    "kernelspec": {
      "name": "python3",
      "display_name": "Python 3"
    }
  },
  "cells": [
    {
      "cell_type": "markdown",
      "metadata": {
        "id": "view-in-github",
        "colab_type": "text"
      },
      "source": [
        "<a href=\"https://colab.research.google.com/github/israelruiz2005/Analisando_os_Dados_do_Airbnb_Barcelona/blob/main/Analisando_os_Dados_do_Airbnb_Barcelona.ipynb\" target=\"_parent\"><img src=\"https://colab.research.google.com/assets/colab-badge.svg\" alt=\"Open In Colab\"/></a>"
      ]
    },
    {
      "cell_type": "markdown",
      "metadata": {
        "id": "kLI0gJtzDGuQ"
      },
      "source": [
        "<img alt=\"Colaboratory logo\" width=\"15%\" src=\"https://raw.githubusercontent.com/carlosfab/escola-data-science/master/img/novo_logo_bg_claro.png\">\n",
        "\n",
        "#### **Data Science na Prática 3.0**\n",
        "*by [sigmoidal.ai](https://sigmoidal.ai)*\n",
        "\n",
        "---\n",
        "\n",
        "# Análise dos Dados do Airbnb - *Barcelona *\n",
        "\n",
        "O [Airbnb](https://www.airbnb.com.br/) já é considerado como sendo a **maior empresa hoteleira da atualidade**. Ah, o detalhe é que ele **não possui nenhum hotel**!\n",
        "\n",
        "Conectando pessoas que querem viajar (e se hospedar) com anfitriões que querem alugar seus imóveis de maneira prática, o Airbnb fornece uma plataforma inovadora para tornar essa hospedagem alternativa.\n",
        "\n",
        "No final de 2018, a Startup fundada 10 anos atrás, já havia **hospedado mais de 300 milhões** de pessoas ao redor de todo o mundo, desafiando as redes hoteleiras tradicionais.\n",
        "\n",
        "Uma das iniciativas do Airbnb é disponibilizar dados do site, para algumas das principais cidades do mundo. Por meio do portal [Inside Airbnb](http://insideairbnb.com/get-the-data.html), é possível baixar uma grande quantidade de dados para desenvolver projetos e soluções de *Data Science*.\n",
        "\n",
        "<center><img alt=\"Analisando Airbnb\" width=\"10%\" src=\"https://www.area360.com.au/wp-content/uploads/2017/09/airbnb-logo.jpg\"></center>\n",
        "\n",
        "**Neste *notebook*, iremos analisar os dados referentes à cidade Barcelona, e ver quais insights podem ser extraídos a partir de dados brutos.**\n",
        "\n",
        "\n",
        "## Um pouco de história da cidade\n",
        "<center><img alt=\"Vista cadetral Vista do Parc Güell\" width=\"50%\" src=\"https://viagemeturismo.abril.com.br/wp-content/uploads/2016/10/thinkstockphotos-158308055.jpeg?quality=70&strip=info&w=928?quality=70&strip=info&w=636\"></center>\n",
        "\n",
        "Barcelona é incomparavel, a capital da Catalunha, seduz, encanta, sendo a metropole da criatividade. Uma cidade que conhece seu passado e vivê o presente intensamente, preparando-se para o futuro, segundo wikipidia sua história estende-se ao longo de mais de 4000 anos. Atualmente caminha para ser uma cidade sustentável, com ciclovias, zonas exclusivas para pedestres e redução de veiculos na área central."
      ]
    },
    {
      "cell_type": "markdown",
      "metadata": {
        "id": "0zxQHhIUDF_2"
      },
      "source": [
        "## Obtenção dos Dados\n"
      ]
    },
    {
      "cell_type": "code",
      "metadata": {
        "id": "Vhp2wMPgJ6zX"
      },
      "source": [
        "# importar os pacotes necessarios\n",
        "import pandas as pd\n",
        "import matplotlib.pyplot as plt\n",
        "import seaborn as sns\n",
        "\n",
        "%matplotlib inline"
      ],
      "execution_count": 11,
      "outputs": []
    },
    {
      "cell_type": "markdown",
      "source": [
        "##Dataset\n",
        "Para que pudesse ser reproduzido, o dataset foi incorporado ao github, de forma que os dados sejam preservados, conforme sua primeira execução."
      ],
      "metadata": {
        "id": "9TRX1VHlU6nY"
      }
    },
    {
      "cell_type": "code",
      "metadata": {
        "id": "tUmoAT8DLQ5T"
      },
      "source": [
        "# importar o arquivo listings.csv para um DataFrame\n",
        "df = pd.read_csv(\"https://raw.githubusercontent.com/israelruiz2005/Analisando_os_Dados_do_Airbnb_Barcelona/main/Dataset/listings.csv\",sep=\",\")\n"
      ],
      "execution_count": 12,
      "outputs": []
    },
    {
      "cell_type": "markdown",
      "metadata": {
        "id": "qb5By2nIMS6m"
      },
      "source": [
        "## Análise dos Dados\n"
      ]
    },
    {
      "cell_type": "markdown",
      "metadata": {
        "id": "RYgvuebKNg8-"
      },
      "source": [
        "**Dicionário das variáveis**\n",
        "\n",
        "* id - identificado único\n",
        "* name - Nome\n",
        "* host_id - id host\n",
        "* host_name - nome host\n",
        "* neighbourhood_group - O grupo de bairros é geocodificado usando a latitude e longitude em relação aos bairros, conforme definido por shapefiles digitais abertos ou públicos\n",
        "* neighbourhood - A vizinhança como geocodificada usando a latitude e longitude em relação às vizinhanças conforme definido por shapefiles digitais abertos ou públicos.\n",
        "* latitude\n",
        "* longitude\n",
        "* room_type - tipo de acomodação\n",
        "* price - valor da diária em moeda local. Observe que o sinal $ pode ser usado independentemente da localidade\n",
        "* minimum_nights - número mínimo de pernoites para o anúncio (as regras do calendário podem ser diferentes)\n",
        "* number_of_reviews - O número de avaliações que a listagem tem\n",
        "* last_review - A data da última/mais recente revisão\n",
        "* reviews_per_month -\n",
        "* calculated_host_listings_count - \n",
        "* availability_365 - disponibilidade_x. A disponibilidade da listagem x dias no futuro, conforme determinado pelo calendário. Observe que um anúncio pode estar disponível porque foi reservado por um hóspede ou bloqueado pelo anfitrião.\n",
        "* number_of_reviews_ltm\n",
        "* license\n",
        "\n",
        "Antes de iniciar qualquer análise, vamos verificar a cara do nosso *dataset*, analisando as 5 primeiras entradas."
      ]
    },
    {
      "cell_type": "code",
      "metadata": {
        "id": "2iS_dae7YQtO",
        "colab": {
          "base_uri": "https://localhost:8080/",
          "height": 461
        },
        "outputId": "e9da1faa-ea0e-41af-e5bd-bf5c9020b8c1"
      },
      "source": [
        "# mostrar as 5 primeiras entradas\n",
        "df.head()"
      ],
      "execution_count": 13,
      "outputs": [
        {
          "output_type": "execute_result",
          "data": {
            "text/plain": [
              "      id                                               name  host_id  \\\n",
              "0  18674    Huge flat for 8 people close to Sagrada Familia    71615   \n",
              "1  23197  Forum CCIB DeLuxe★Spacious &Elegant★Large Balcony    90417   \n",
              "2  32711                   Sagrada Familia area - Còrsega 1   135703   \n",
              "3  34981               VIDRE HOME PLAZA REAL on LAS RAMBLAS    73163   \n",
              "4  35318      Luxury room with private bathroom and balcony   152070   \n",
              "\n",
              "          host_name neighbourhood_group                       neighbourhood  \\\n",
              "0  Mireia And Maria            Eixample                  la Sagrada Família   \n",
              "1    Etain (Marnie)          Sant Martí               el Besòs i el Maresme   \n",
              "2              Nick              Gràcia  el Camp d'en Grassot i Gràcia Nova   \n",
              "3            Andres        Ciutat Vella                      el Barri Gòtic   \n",
              "4            Michel        Ciutat Vella                      el Barri Gòtic   \n",
              "\n",
              "   latitude  longitude        room_type  price  minimum_nights  \\\n",
              "0  41.40556    2.17262  Entire home/apt    102               1   \n",
              "1  41.41291    2.22063  Entire home/apt    220               3   \n",
              "2  41.40566    2.17015  Entire home/apt    144               2   \n",
              "3  41.37978    2.17623  Entire home/apt    214               4   \n",
              "4  41.38170    2.17730     Private room     93               3   \n",
              "\n",
              "   number_of_reviews last_review  reviews_per_month  \\\n",
              "0                 22  2021-10-25               0.21   \n",
              "1                 53  2021-10-27               0.41   \n",
              "2                 63  2020-02-22               0.50   \n",
              "3                159  2021-11-15               1.17   \n",
              "4                242  2019-05-12               1.89   \n",
              "\n",
              "   calculated_host_listings_count  availability_365  number_of_reviews_ltm  \\\n",
              "0                              19                15                      1   \n",
              "1                               2                46                      1   \n",
              "2                               3                 7                      0   \n",
              "3                               2               149                     10   \n",
              "4                               1               148                      0   \n",
              "\n",
              "       license  \n",
              "0  HUTB-002062  \n",
              "1  HUTB-005057  \n",
              "2  HUTB-001722  \n",
              "3  HUTB-001506  \n",
              "4          NaN  "
            ],
            "text/html": [
              "\n",
              "  <div id=\"df-5f1615f5-8193-4f91-b24e-ae51211ada33\">\n",
              "    <div class=\"colab-df-container\">\n",
              "      <div>\n",
              "<style scoped>\n",
              "    .dataframe tbody tr th:only-of-type {\n",
              "        vertical-align: middle;\n",
              "    }\n",
              "\n",
              "    .dataframe tbody tr th {\n",
              "        vertical-align: top;\n",
              "    }\n",
              "\n",
              "    .dataframe thead th {\n",
              "        text-align: right;\n",
              "    }\n",
              "</style>\n",
              "<table border=\"1\" class=\"dataframe\">\n",
              "  <thead>\n",
              "    <tr style=\"text-align: right;\">\n",
              "      <th></th>\n",
              "      <th>id</th>\n",
              "      <th>name</th>\n",
              "      <th>host_id</th>\n",
              "      <th>host_name</th>\n",
              "      <th>neighbourhood_group</th>\n",
              "      <th>neighbourhood</th>\n",
              "      <th>latitude</th>\n",
              "      <th>longitude</th>\n",
              "      <th>room_type</th>\n",
              "      <th>price</th>\n",
              "      <th>minimum_nights</th>\n",
              "      <th>number_of_reviews</th>\n",
              "      <th>last_review</th>\n",
              "      <th>reviews_per_month</th>\n",
              "      <th>calculated_host_listings_count</th>\n",
              "      <th>availability_365</th>\n",
              "      <th>number_of_reviews_ltm</th>\n",
              "      <th>license</th>\n",
              "    </tr>\n",
              "  </thead>\n",
              "  <tbody>\n",
              "    <tr>\n",
              "      <th>0</th>\n",
              "      <td>18674</td>\n",
              "      <td>Huge flat for 8 people close to Sagrada Familia</td>\n",
              "      <td>71615</td>\n",
              "      <td>Mireia And Maria</td>\n",
              "      <td>Eixample</td>\n",
              "      <td>la Sagrada Família</td>\n",
              "      <td>41.40556</td>\n",
              "      <td>2.17262</td>\n",
              "      <td>Entire home/apt</td>\n",
              "      <td>102</td>\n",
              "      <td>1</td>\n",
              "      <td>22</td>\n",
              "      <td>2021-10-25</td>\n",
              "      <td>0.21</td>\n",
              "      <td>19</td>\n",
              "      <td>15</td>\n",
              "      <td>1</td>\n",
              "      <td>HUTB-002062</td>\n",
              "    </tr>\n",
              "    <tr>\n",
              "      <th>1</th>\n",
              "      <td>23197</td>\n",
              "      <td>Forum CCIB DeLuxe★Spacious &amp;Elegant★Large Balcony</td>\n",
              "      <td>90417</td>\n",
              "      <td>Etain (Marnie)</td>\n",
              "      <td>Sant Martí</td>\n",
              "      <td>el Besòs i el Maresme</td>\n",
              "      <td>41.41291</td>\n",
              "      <td>2.22063</td>\n",
              "      <td>Entire home/apt</td>\n",
              "      <td>220</td>\n",
              "      <td>3</td>\n",
              "      <td>53</td>\n",
              "      <td>2021-10-27</td>\n",
              "      <td>0.41</td>\n",
              "      <td>2</td>\n",
              "      <td>46</td>\n",
              "      <td>1</td>\n",
              "      <td>HUTB-005057</td>\n",
              "    </tr>\n",
              "    <tr>\n",
              "      <th>2</th>\n",
              "      <td>32711</td>\n",
              "      <td>Sagrada Familia area - Còrsega 1</td>\n",
              "      <td>135703</td>\n",
              "      <td>Nick</td>\n",
              "      <td>Gràcia</td>\n",
              "      <td>el Camp d'en Grassot i Gràcia Nova</td>\n",
              "      <td>41.40566</td>\n",
              "      <td>2.17015</td>\n",
              "      <td>Entire home/apt</td>\n",
              "      <td>144</td>\n",
              "      <td>2</td>\n",
              "      <td>63</td>\n",
              "      <td>2020-02-22</td>\n",
              "      <td>0.50</td>\n",
              "      <td>3</td>\n",
              "      <td>7</td>\n",
              "      <td>0</td>\n",
              "      <td>HUTB-001722</td>\n",
              "    </tr>\n",
              "    <tr>\n",
              "      <th>3</th>\n",
              "      <td>34981</td>\n",
              "      <td>VIDRE HOME PLAZA REAL on LAS RAMBLAS</td>\n",
              "      <td>73163</td>\n",
              "      <td>Andres</td>\n",
              "      <td>Ciutat Vella</td>\n",
              "      <td>el Barri Gòtic</td>\n",
              "      <td>41.37978</td>\n",
              "      <td>2.17623</td>\n",
              "      <td>Entire home/apt</td>\n",
              "      <td>214</td>\n",
              "      <td>4</td>\n",
              "      <td>159</td>\n",
              "      <td>2021-11-15</td>\n",
              "      <td>1.17</td>\n",
              "      <td>2</td>\n",
              "      <td>149</td>\n",
              "      <td>10</td>\n",
              "      <td>HUTB-001506</td>\n",
              "    </tr>\n",
              "    <tr>\n",
              "      <th>4</th>\n",
              "      <td>35318</td>\n",
              "      <td>Luxury room with private bathroom and balcony</td>\n",
              "      <td>152070</td>\n",
              "      <td>Michel</td>\n",
              "      <td>Ciutat Vella</td>\n",
              "      <td>el Barri Gòtic</td>\n",
              "      <td>41.38170</td>\n",
              "      <td>2.17730</td>\n",
              "      <td>Private room</td>\n",
              "      <td>93</td>\n",
              "      <td>3</td>\n",
              "      <td>242</td>\n",
              "      <td>2019-05-12</td>\n",
              "      <td>1.89</td>\n",
              "      <td>1</td>\n",
              "      <td>148</td>\n",
              "      <td>0</td>\n",
              "      <td>NaN</td>\n",
              "    </tr>\n",
              "  </tbody>\n",
              "</table>\n",
              "</div>\n",
              "      <button class=\"colab-df-convert\" onclick=\"convertToInteractive('df-5f1615f5-8193-4f91-b24e-ae51211ada33')\"\n",
              "              title=\"Convert this dataframe to an interactive table.\"\n",
              "              style=\"display:none;\">\n",
              "        \n",
              "  <svg xmlns=\"http://www.w3.org/2000/svg\" height=\"24px\"viewBox=\"0 0 24 24\"\n",
              "       width=\"24px\">\n",
              "    <path d=\"M0 0h24v24H0V0z\" fill=\"none\"/>\n",
              "    <path d=\"M18.56 5.44l.94 2.06.94-2.06 2.06-.94-2.06-.94-.94-2.06-.94 2.06-2.06.94zm-11 1L8.5 8.5l.94-2.06 2.06-.94-2.06-.94L8.5 2.5l-.94 2.06-2.06.94zm10 10l.94 2.06.94-2.06 2.06-.94-2.06-.94-.94-2.06-.94 2.06-2.06.94z\"/><path d=\"M17.41 7.96l-1.37-1.37c-.4-.4-.92-.59-1.43-.59-.52 0-1.04.2-1.43.59L10.3 9.45l-7.72 7.72c-.78.78-.78 2.05 0 2.83L4 21.41c.39.39.9.59 1.41.59.51 0 1.02-.2 1.41-.59l7.78-7.78 2.81-2.81c.8-.78.8-2.07 0-2.86zM5.41 20L4 18.59l7.72-7.72 1.47 1.35L5.41 20z\"/>\n",
              "  </svg>\n",
              "      </button>\n",
              "      \n",
              "  <style>\n",
              "    .colab-df-container {\n",
              "      display:flex;\n",
              "      flex-wrap:wrap;\n",
              "      gap: 12px;\n",
              "    }\n",
              "\n",
              "    .colab-df-convert {\n",
              "      background-color: #E8F0FE;\n",
              "      border: none;\n",
              "      border-radius: 50%;\n",
              "      cursor: pointer;\n",
              "      display: none;\n",
              "      fill: #1967D2;\n",
              "      height: 32px;\n",
              "      padding: 0 0 0 0;\n",
              "      width: 32px;\n",
              "    }\n",
              "\n",
              "    .colab-df-convert:hover {\n",
              "      background-color: #E2EBFA;\n",
              "      box-shadow: 0px 1px 2px rgba(60, 64, 67, 0.3), 0px 1px 3px 1px rgba(60, 64, 67, 0.15);\n",
              "      fill: #174EA6;\n",
              "    }\n",
              "\n",
              "    [theme=dark] .colab-df-convert {\n",
              "      background-color: #3B4455;\n",
              "      fill: #D2E3FC;\n",
              "    }\n",
              "\n",
              "    [theme=dark] .colab-df-convert:hover {\n",
              "      background-color: #434B5C;\n",
              "      box-shadow: 0px 1px 3px 1px rgba(0, 0, 0, 0.15);\n",
              "      filter: drop-shadow(0px 1px 2px rgba(0, 0, 0, 0.3));\n",
              "      fill: #FFFFFF;\n",
              "    }\n",
              "  </style>\n",
              "\n",
              "      <script>\n",
              "        const buttonEl =\n",
              "          document.querySelector('#df-5f1615f5-8193-4f91-b24e-ae51211ada33 button.colab-df-convert');\n",
              "        buttonEl.style.display =\n",
              "          google.colab.kernel.accessAllowed ? 'block' : 'none';\n",
              "\n",
              "        async function convertToInteractive(key) {\n",
              "          const element = document.querySelector('#df-5f1615f5-8193-4f91-b24e-ae51211ada33');\n",
              "          const dataTable =\n",
              "            await google.colab.kernel.invokeFunction('convertToInteractive',\n",
              "                                                     [key], {});\n",
              "          if (!dataTable) return;\n",
              "\n",
              "          const docLinkHtml = 'Like what you see? Visit the ' +\n",
              "            '<a target=\"_blank\" href=https://colab.research.google.com/notebooks/data_table.ipynb>data table notebook</a>'\n",
              "            + ' to learn more about interactive tables.';\n",
              "          element.innerHTML = '';\n",
              "          dataTable['output_type'] = 'display_data';\n",
              "          await google.colab.output.renderOutput(dataTable, element);\n",
              "          const docLink = document.createElement('div');\n",
              "          docLink.innerHTML = docLinkHtml;\n",
              "          element.appendChild(docLink);\n",
              "        }\n",
              "      </script>\n",
              "    </div>\n",
              "  </div>\n",
              "  "
            ]
          },
          "metadata": {},
          "execution_count": 13
        }
      ]
    },
    {
      "cell_type": "markdown",
      "metadata": {
        "id": "6-B_qtEaYEd-"
      },
      "source": [
        "### **Q1. Quantos atributos (variáveis) e quantas entradas o nosso conjunto de dados possui? Quais os tipos das variáveis?**"
      ]
    },
    {
      "cell_type": "code",
      "metadata": {
        "id": "TFRK0tniLV-G",
        "colab": {
          "base_uri": "https://localhost:8080/"
        },
        "outputId": "9ccb84d2-5c9e-4511-f83b-983581e34694"
      },
      "source": [
        "# identificar o volume de dados do DataFrame\n",
        "df.shape"
      ],
      "execution_count": 14,
      "outputs": [
        {
          "output_type": "execute_result",
          "data": {
            "text/plain": [
              "(15707, 18)"
            ]
          },
          "metadata": {},
          "execution_count": 14
        }
      ]
    },
    {
      "cell_type": "markdown",
      "metadata": {
        "id": "yz1urSUGW9iE"
      },
      "source": [
        "### **Q2. Qual a porcentagem de valores ausentes no *dataset*?**"
      ]
    },
    {
      "cell_type": "code",
      "metadata": {
        "id": "plk2FjbCXOqP"
      },
      "source": [
        "# ordenar em ordem decrescente as variáveis por seus valores ausentes\n"
      ],
      "execution_count": null,
      "outputs": []
    },
    {
      "cell_type": "markdown",
      "metadata": {
        "id": "iHXvvHIxaoNc"
      },
      "source": [
        "### **Q3. Qual o tipo de distribuição das variáveis?** "
      ]
    },
    {
      "cell_type": "code",
      "metadata": {
        "id": "q2wWSfeRbmBo"
      },
      "source": [
        "# plotar o histograma das variáveis numéricas\n"
      ],
      "execution_count": null,
      "outputs": []
    },
    {
      "cell_type": "markdown",
      "metadata": {
        "id": "7x4aw1j5wNmn"
      },
      "source": [
        "### **Q4. Qual a média dos preços de aluguel?**"
      ]
    },
    {
      "cell_type": "code",
      "metadata": {
        "id": "ff-8gUahLk-C"
      },
      "source": [
        "# ver a média da coluna `price``\n"
      ],
      "execution_count": null,
      "outputs": []
    },
    {
      "cell_type": "markdown",
      "metadata": {
        "id": "IXn2oIo5qx-w"
      },
      "source": [
        "### **Q4. Qual a correlação existente entre as variáveis**"
      ]
    },
    {
      "cell_type": "code",
      "metadata": {
        "id": "x2ayzBajqxyd"
      },
      "source": [
        "# criar uma matriz de correlação\n",
        "\n",
        "# mostrar a matriz de correlação\n"
      ],
      "execution_count": null,
      "outputs": []
    },
    {
      "cell_type": "code",
      "metadata": {
        "id": "91UujDr6ueqE"
      },
      "source": [
        "# plotar um heatmap a partir das correlações\n"
      ],
      "execution_count": null,
      "outputs": []
    },
    {
      "cell_type": "markdown",
      "metadata": {
        "id": "7b6RMWpuHKN-"
      },
      "source": [
        "### **Q5. Qual o tipo de imóvel mais alugado no Airbnb?**"
      ]
    },
    {
      "cell_type": "code",
      "metadata": {
        "id": "ueLPNWvPHgfB"
      },
      "source": [
        "# mostrar a quantidade de cada tipo de imóvel disponível\n"
      ],
      "execution_count": null,
      "outputs": []
    },
    {
      "cell_type": "code",
      "metadata": {
        "id": "EvwoO-XAHhIm"
      },
      "source": [
        "# mostrar a porcentagem de cada tipo de imóvel disponível\n"
      ],
      "execution_count": null,
      "outputs": []
    },
    {
      "cell_type": "markdown",
      "metadata": {
        "id": "MFa5NbnLJMcd"
      },
      "source": [
        "### **Q6. Qual a localidade mais cara do dataset?**\n",
        "\n"
      ]
    },
    {
      "cell_type": "code",
      "metadata": {
        "id": "MD_xa143JZpi"
      },
      "source": [
        "# ver preços por bairros, na média\n"
      ],
      "execution_count": null,
      "outputs": []
    },
    {
      "cell_type": "code",
      "metadata": {
        "id": "UxVJqJ_3W59I"
      },
      "source": [
        "# plotar os imóveis pela latitude-longitude\n"
      ],
      "execution_count": null,
      "outputs": []
    },
    {
      "cell_type": "markdown",
      "metadata": {
        "id": "vTneAMRUYvr1"
      },
      "source": [
        "### **Q7. Qual é a média do mínimo de noites para aluguel (minimum_nights)?**"
      ]
    },
    {
      "cell_type": "code",
      "metadata": {
        "id": "_VzNhrEgY82N"
      },
      "source": [
        "# ver a média da coluna `minimum_nights``"
      ],
      "execution_count": null,
      "outputs": []
    },
    {
      "cell_type": "markdown",
      "metadata": {
        "id": "GkvAg623RjoR"
      },
      "source": [
        "## Conclusões\n"
      ]
    },
    {
      "cell_type": "markdown",
      "metadata": {
        "id": "rbZ3Hsy9Ypw8"
      },
      "source": [
        ""
      ]
    }
  ]
}